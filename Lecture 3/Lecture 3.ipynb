{
 "cells": [
  {
   "cell_type": "code",
   "execution_count": 169,
   "id": "5d11a5f4",
   "metadata": {},
   "outputs": [],
   "source": [
    "import torch\n",
    "import torch.nn.functional as F\n",
    "import matplotlib.pyplot as plt\n",
    "%matplotlib inline"
   ]
  },
  {
   "cell_type": "code",
   "execution_count": 170,
   "id": "5473c6ac",
   "metadata": {},
   "outputs": [],
   "source": [
    "# reading all words\n",
    "words = open('names.txt', 'r').read().splitlines()"
   ]
  },
  {
   "cell_type": "code",
   "execution_count": 171,
   "id": "9881b619",
   "metadata": {},
   "outputs": [
    {
     "data": {
      "text/plain": [
       "32033"
      ]
     },
     "execution_count": 171,
     "metadata": {},
     "output_type": "execute_result"
    }
   ],
   "source": [
    "len(words)"
   ]
  },
  {
   "cell_type": "code",
   "execution_count": 294,
   "id": "f456c089",
   "metadata": {},
   "outputs": [],
   "source": [
    "chars = sorted(list(set(''.join(words))))\n",
    "stoi = {ch:i+1 for i,ch in enumerate(chars)}\n",
    "stoi['.'] = 0\n",
    "itos = {i:ch for ch, i in stoi.items()}\n",
    "\n",
    "total_chars = len(stoi)"
   ]
  },
  {
   "cell_type": "code",
   "execution_count": 346,
   "id": "1d935c36",
   "metadata": {},
   "outputs": [],
   "source": [
    "#Creating the Training Set of Bigrams\n",
    "block_size = 3 #context length: how many characters do we take to predict next one.\n",
    "def create_dataset(dataset, block_size):\n",
    "    X, Y = [], []\n",
    "    for word in dataset:\n",
    "        context = [0] * block_size\n",
    "        for ch in word + '.':\n",
    "            ix = stoi[ch]\n",
    "            X.append(context[:])\n",
    "            Y.append(ix)\n",
    "            context = context[1:] + [ix]\n",
    "\n",
    "    X = torch.tensor(X)\n",
    "    Y = torch.tensor(Y)\n",
    "    return X, Y\n",
    "\n",
    "import random\n",
    "random.seed(42)\n",
    "random.shuffle(words)\n",
    "n = len(words)\n",
    "n1, n2 = int(n*0.8), int(n*0.9)\n",
    "Xtr, Ytr = create_dataset(words[:n1], block_size)\n",
    "Xdev, Ydev = create_dataset(words[n1:n2], block_size)\n",
    "Xtst, Ytst = create_dataset(words[n2:], block_size)"
   ]
  },
  {
   "cell_type": "code",
   "execution_count": 368,
   "id": "258dd762",
   "metadata": {},
   "outputs": [],
   "source": [
    "dim_e = 10\n",
    "g = torch.Generator().manual_seed(2147483647)\n",
    "C = torch.randn((total_chars, dim_e)) #dimensions (27x2)\n",
    "W1 = torch.randn((block_size * dim_e, 200))\n",
    "b1 = torch.randn(200)\n",
    "W2 = torch.randn((200, total_chars))\n",
    "b2 = torch.randn(total_chars)\n",
    "parameters = [C, W1, b1, W2, b2]\n",
    "\n",
    "for p in parameters:\n",
    "    p.requires_grad = True"
   ]
  },
  {
   "cell_type": "code",
   "execution_count": 377,
   "id": "9c8f56b5",
   "metadata": {},
   "outputs": [
    {
     "data": {
      "text/plain": [
       "torch.Size([182424, 3, 10])"
      ]
     },
     "execution_count": 377,
     "metadata": {},
     "output_type": "execute_result"
    }
   ],
   "source": [
    "C[Xtr].shape"
   ]
  },
  {
   "cell_type": "code",
   "execution_count": 378,
   "id": "19a055df",
   "metadata": {},
   "outputs": [],
   "source": [
    "def forward_pass(X):\n",
    "    emb = C[X]\n",
    "    h = torch.tanh(emb.view(-1, emb.shape[1]*emb.shape[2]) @ W1 + b1)\n",
    "    logits = h @ W2 + b2\n",
    "    return logits"
   ]
  },
  {
   "cell_type": "code",
   "execution_count": 379,
   "id": "6ee2c3f2",
   "metadata": {},
   "outputs": [
    {
     "data": {
      "text/plain": [
       "11897"
      ]
     },
     "execution_count": 379,
     "metadata": {},
     "output_type": "execute_result"
    }
   ],
   "source": [
    "sum(p.nelement() for p in parameters)"
   ]
  },
  {
   "cell_type": "code",
   "execution_count": 370,
   "id": "0989aa46",
   "metadata": {},
   "outputs": [],
   "source": [
    "lre = torch.linspace(-3, 0, 1000)\n",
    "lrs = 10**lre"
   ]
  },
  {
   "cell_type": "code",
   "execution_count": 371,
   "id": "da5132b5",
   "metadata": {},
   "outputs": [],
   "source": [
    "lossi = []\n",
    "lri = []\n",
    "stepi = []"
   ]
  },
  {
   "cell_type": "code",
   "execution_count": 372,
   "id": "4fc7c9e8",
   "metadata": {},
   "outputs": [],
   "source": [
    "epoch = 200000\n",
    "lr = 0.01#10**-1\n",
    "mini_batch = 32\n",
    "\n",
    "for i in range(epoch):\n",
    "    \n",
    "    #miniBatch\n",
    "    ix = torch.randint(0, Xtr.shape[0], (mini_batch,))\n",
    "    \n",
    "    #Forward Pass\n",
    "    emb = C[Xtr[ix]]\n",
    "    h = torch.tanh(emb.view(-1, emb.shape[1]*emb.shape[2]) @ W1 + b1) \n",
    "    logits = h @ W2 + b2\n",
    "    #logits = forward_pass(Xtr[ix])\n",
    "    loss = F.cross_entropy(logits, Ytr[ix])\n",
    "    #print(\"loss for epoch \" + str(i + 1) + \": \" + str(loss.item()))\n",
    "    \n",
    "    #Backward Pass\n",
    "    for p in parameters:\n",
    "        p.grad = None\n",
    "    loss.backward()\n",
    "    \n",
    "#     lr = lrs[i]\n",
    "    #Update parameters:\n",
    "    lr = 0.1 if i<100_000 else 0.01\n",
    "    for p in parameters:\n",
    "        p.data += -lr * p.grad\n",
    "        \n",
    "    #tracking stats\n",
    "    lossi.append(loss.log10().item())\n",
    "    stepi.append(i)\n",
    "#     lri.append(lre[i])\n",
    "\n",
    "# plt.plot(lri, lossi)  "
   ]
  },
  {
   "cell_type": "code",
   "execution_count": 373,
   "id": "50ec33de",
   "metadata": {},
   "outputs": [
    {
     "data": {
      "text/plain": [
       "[<matplotlib.lines.Line2D at 0x296d7e160>]"
      ]
     },
     "execution_count": 373,
     "metadata": {},
     "output_type": "execute_result"
    },
    {
     "data": {
      "image/png": "[encoded data removed]",
      "text/plain": [
       "<Figure size 640x480 with 1 Axes>"
      ]
     },
     "metadata": {},
     "output_type": "display_data"
    }
   ],
   "source": [
    "plt.plot(lossi)"
   ]
  },
  {
   "cell_type": "code",
   "execution_count": 381,
   "id": "f7aec17f",
   "metadata": {},
   "outputs": [
    {
     "name": "stdout",
     "output_type": "stream",
     "text": [
      "Full loss :  2.1192\n"
     ]
    }
   ],
   "source": [
    "# emb = C[Xtr]\n",
    "# h = torch.tanh(emb.view(-1, emb.shape[1]*emb.shape[2]) @ W1 + b1) \n",
    "# logits = h @ W2 + b2\n",
    "logits = forward_pass(Xtr)\n",
    "loss = F.cross_entropy(logits, Ytr)\n",
    "print(f'Full loss : {loss: .4f}')"
   ]
  },
  {
   "cell_type": "code",
   "execution_count": 382,
   "id": "122afb65",
   "metadata": {},
   "outputs": [
    {
     "name": "stdout",
     "output_type": "stream",
     "text": [
      "Full loss :  2.1691\n"
     ]
    }
   ],
   "source": [
    "# emb = C[Xdev]\n",
    "# h = torch.tanh(emb.view(-1, emb.shape[1]*emb.shape[2]) @ W1 + b1) \n",
    "# logits = h @ W2 + b2\n",
    "logits = forward_pass(Xdev)\n",
    "loss = F.cross_entropy(logits, Ydev)\n",
    "print(f'Full loss : {loss: .4f}')"
   ]
  },
  {
   "cell_type": "code",
   "execution_count": 383,
   "id": "5cb63fc5",
   "metadata": {},
   "outputs": [
    {
     "name": "stdout",
     "output_type": "stream",
     "text": [
      "Full loss :  2.1793\n"
     ]
    }
   ],
   "source": [
    "# emb = C[Xtst]\n",
    "# h = torch.tanh(emb.view(-1, emb.shape[1]*emb.shape[2]) @ W1 + b1) \n",
    "# logits = h @ W2 + b2\n",
    "logits = forward_pass(Xtst)\n",
    "loss = F.cross_entropy(logits, Ytst)\n",
    "print(f'Full loss : {loss: .4f}')"
   ]
  },
  {
   "cell_type": "code",
   "execution_count": 355,
   "id": "0abcdf25",
   "metadata": {},
   "outputs": [],
   "source": [
    "#Visualize the 2d embeddings\n",
    "if(C.shape[1]==2):\n",
    "    plt.figure(figsize=(8,8))\n",
    "    plt.scatter(C[:,0].data, C[:,1].data, s=200)\n",
    "    for i in range(C.shape[0]):\n",
    "        plt.text(C[i,0].item(), C[i,1].item(), itos[i], ha=\"center\", va=\"center\", color=\"white\")\n",
    "    plt.grid('minor')"
   ]
  },
  {
   "cell_type": "markdown",
   "id": "6d2d0839",
   "metadata": {},
   "source": [
    "# Sampling"
   ]
  },
  {
   "cell_type": "code",
   "execution_count": 385,
   "id": "945fed0d",
   "metadata": {},
   "outputs": [],
   "source": [
    "g = torch.Generator().manual_seed(2147483647 + 10)"
   ]
  },
  {
   "cell_type": "code",
   "execution_count": 396,
   "id": "32e36694",
   "metadata": {},
   "outputs": [
    {
     "name": "stdout",
     "output_type": "stream",
     "text": [
      "issa.\n",
      "dham.\n",
      "zahmaria.\n",
      "latz.\n",
      "rydin.\n",
      "briyan.\n",
      "sralin.\n",
      "ellynn.\n",
      "zarye.\n",
      "abdieh.\n",
      "emyka.\n",
      "seyliana.\n",
      "brysantonleistyn.\n",
      "dhriyuah.\n",
      "pran.\n",
      "chito.\n",
      "aptexxon.\n",
      "tamarcy.\n",
      "bri.\n",
      "jasmarih.\n",
      "ror.\n",
      "anna.\n",
      "kereed.\n",
      "freemya.\n",
      "dale.\n",
      "safaten.\n",
      "deeverley.\n",
      "anv.\n",
      "ana.\n",
      "jafarti.\n"
     ]
    }
   ],
   "source": [
    "output = 30\n",
    "#sample from the model\n",
    "for i in range(output):\n",
    "    \n",
    "    out = []\n",
    "    context = [0] * block_size\n",
    "    while True:\n",
    "        logits = forward_pass(torch.tensor([context]))\n",
    "        probs = F.softmax(logits, dim=1)\n",
    "        ix = torch.multinomial(probs, num_samples=1,generator=g).item()\n",
    "        context = context[1:] + [ix]\n",
    "        out.append(itos[ix])\n",
    "        if ix == 0:\n",
    "            break\n",
    "    print(''.join(out))"
   ]
  },
  {
   "cell_type": "code",
   "execution_count": null,
   "id": "581f86b0",
   "metadata": {},
   "outputs": [],
   "source": []
  }
 ],
 "metadata": {
  "kernelspec": {
   "display_name": "Python 3 (ipykernel)",
   "language": "python",
   "name": "python3"
  },
  "language_info": {
   "codemirror_mode": {
    "name": "ipython",
    "version": 3
   },
   "file_extension": ".py",
   "mimetype": "text/x-python",
   "name": "python",
   "nbconvert_exporter": "python",
   "pygments_lexer": "ipython3",
   "version": "3.9.13"
  }
 },
 "nbformat": 4,
 "nbformat_minor": 5
}
